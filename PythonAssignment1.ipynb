{
 "cells": [
  {
   "cell_type": "code",
   "execution_count": 27,
   "id": "90beb85c",
   "metadata": {},
   "outputs": [],
   "source": [
    "str = \"I am very keen in building up my career in Data Science, but not sure from where to start. If I search the web it throws me thousands of articles, few are relevant others make me confused, again I come around to the same page. Supervised has provided me a good platform to remove all such qualms which were wrangling in my mind\""
   ]
  },
  {
   "cell_type": "code",
   "execution_count": 28,
   "id": "b45929d2",
   "metadata": {},
   "outputs": [
    {
     "data": {
      "text/plain": [
       "327"
      ]
     },
     "execution_count": 28,
     "metadata": {},
     "output_type": "execute_result"
    }
   ],
   "source": [
    "len (str)"
   ]
  },
  {
   "cell_type": "code",
   "execution_count": 29,
   "id": "5c24ab8d",
   "metadata": {},
   "outputs": [
    {
     "name": "stdout",
     "output_type": "stream",
     "text": [
      "i am very keen in building up my career in data science, but not sure from where to start. if i search the web it throws me thousands of articles, few are relevant others make me confused, again i come around to the same page. supervised has provided me a good platform to remove all such qualms which were wrangling in my mind\n"
     ]
    }
   ],
   "source": [
    "print (str.lower())"
   ]
  },
  {
   "cell_type": "code",
   "execution_count": 30,
   "id": "2631c7f8",
   "metadata": {},
   "outputs": [],
   "source": [
    "all_punct = '''!()-[]{};:'\"\\,<>./?@#$%^&*_~''';"
   ]
  },
  {
   "cell_type": "code",
   "execution_count": 31,
   "id": "a7d1f1bf",
   "metadata": {},
   "outputs": [
    {
     "name": "stdout",
     "output_type": "stream",
     "text": [
      "String after removing punctuations:  I am very keen in building up my career in Data Science but not sure from where to start If I search the web it throws me thousands of articles few are relevant others make me confused again I come around to the same page Supervised has provided me a good platform to remove all such qualms which were wrangling in my mind\n"
     ]
    }
   ],
   "source": [
    "for elements in str:\n",
    "    if elements in all_punct:\n",
    "        str=str.replace(elements,'');\n",
    "print (\"String after removing punctuations: \",str)"
   ]
  },
  {
   "cell_type": "code",
   "execution_count": 32,
   "id": "9192d07e",
   "metadata": {},
   "outputs": [
    {
     "name": "stdout",
     "output_type": "stream",
     "text": [
      "I am very keen in building up my career in Data Science but not sure from where to start If I search the web it throws me thousands of articles few are relevant others make me confused again I come around to the same page Supervised has provided me a good platform to remove all such qualms which were wrangling in my mind\n"
     ]
    }
   ],
   "source": [
    "print (str);"
   ]
  },
  {
   "cell_type": "code",
   "execution_count": 33,
   "id": "62de372e",
   "metadata": {},
   "outputs": [
    {
     "name": "stdout",
     "output_type": "stream",
     "text": [
      "Extracted String : Data Science\n"
     ]
    }
   ],
   "source": [
    "orig_length = len (str);\n",
    "start_index=str.find(\"Data Science\");\n",
    "extracted_str = str[start_index:start_index+len(\"Data Science\")]\n",
    "print (\"Extracted String :\",extracted_str);"
   ]
  },
  {
   "cell_type": "code",
   "execution_count": 34,
   "id": "7681df94",
   "metadata": {},
   "outputs": [
    {
     "name": "stdout",
     "output_type": "stream",
     "text": [
      "Counter({'I': 3, 'in': 3, 'to': 3, 'me': 3, 'my': 2, 'the': 2, 'am': 1, 'very': 1, 'keen': 1, 'building': 1, 'up': 1, 'career': 1, 'Data': 1, 'Science': 1, 'but': 1, 'not': 1, 'sure': 1, 'from': 1, 'where': 1, 'start': 1, 'If': 1, 'search': 1, 'web': 1, 'it': 1, 'throws': 1, 'thousands': 1, 'of': 1, 'articles': 1, 'few': 1, 'are': 1, 'relevant': 1, 'others': 1, 'make': 1, 'confused': 1, 'again': 1, 'come': 1, 'around': 1, 'same': 1, 'page': 1, 'Supervised': 1, 'has': 1, 'provided': 1, 'a': 1, 'good': 1, 'platform': 1, 'remove': 1, 'all': 1, 'such': 1, 'qualms': 1, 'which': 1, 'were': 1, 'wrangling': 1, 'mind': 1})\n"
     ]
    }
   ],
   "source": [
    "import collections;\n",
    "s_count= collections.Counter(str.split(\" \"));\n",
    "print(s_count);"
   ]
  },
  {
   "cell_type": "code",
   "execution_count": 35,
   "id": "b9490407",
   "metadata": {},
   "outputs": [
    {
     "name": "stdout",
     "output_type": "stream",
     "text": [
      "I am very keen in building up my career in Data Science but not sure from where to start If I search the web it throws me thousands of articles few are relevant others make me confused again I come around to the same page Unsupervised has provided me a good platform to remove all such qualms which were wrangling in my mind\n"
     ]
    }
   ],
   "source": [
    "modified_str = str.replace(\"Supervised\",\"Unsupervised\");\n",
    "print(modified_str);"
   ]
  },
  {
   "cell_type": "code",
   "execution_count": 36,
   "id": "4655b40c",
   "metadata": {},
   "outputs": [
    {
     "name": "stdout",
     "output_type": "stream",
     "text": [
      "['I am very keen in building up my career in Data Science but not sure from where to start If I search the web it throws me thousands of articles few are relevant others make me confused again I come around to the same page Supervised has provided me a good platform to remove all such qualms which were wrangling in my mind']\n"
     ]
    }
   ],
   "source": [
    "split_str = str.split(\".\");\n",
    "print(split_str);"
   ]
  },
  {
   "cell_type": "code",
   "execution_count": 37,
   "id": "9653171c",
   "metadata": {},
   "outputs": [
    {
     "data": {
      "text/plain": [
       "'I am very keen in building up my career in Data Science but not sure from where to start If I search the web it throws me thousands of articles few are relevant others make me confused again I come around to the same page Supervised has provided me a good platform to remove all such qualms which were wrangling in my mind'"
      ]
     },
     "execution_count": 37,
     "metadata": {},
     "output_type": "execute_result"
    }
   ],
   "source": [
    "str"
   ]
  },
  {
   "cell_type": "code",
   "execution_count": 38,
   "id": "73e06232",
   "metadata": {},
   "outputs": [
    {
     "name": "stdout",
     "output_type": "stream",
     "text": [
      "Science\n",
      "sure\n",
      "where\n",
      "the\n",
      "me\n",
      "are\n",
      "make\n",
      "me\n",
      "come\n",
      "the\n",
      "same\n",
      "page\n",
      "me\n",
      "remove\n",
      "were\n"
     ]
    }
   ],
   "source": [
    "words = str.split()\n",
    "for w in words:\n",
    "    if w.endswith('e'):\n",
    "        print(w)"
   ]
  },
  {
   "cell_type": "code",
   "execution_count": 39,
   "id": "8e17e6ad",
   "metadata": {},
   "outputs": [
    {
     "name": "stdout",
     "output_type": "stream",
     "text": [
      "22\n"
     ]
    }
   ],
   "source": [
    "count=0\n",
    "for c in str:\n",
    "    if c=='a':\n",
    "        count=count+1 \n",
    "print(count)"
   ]
  },
  {
   "cell_type": "code",
   "execution_count": null,
   "id": "a3a06f19",
   "metadata": {},
   "outputs": [],
   "source": []
  }
 ],
 "metadata": {
  "kernelspec": {
   "display_name": "Python 3",
   "language": "python",
   "name": "python3"
  },
  "language_info": {
   "codemirror_mode": {
    "name": "ipython",
    "version": 3
   },
   "file_extension": ".py",
   "mimetype": "text/x-python",
   "name": "python",
   "nbconvert_exporter": "python",
   "pygments_lexer": "ipython3",
   "version": "3.8.8"
  }
 },
 "nbformat": 4,
 "nbformat_minor": 5
}
